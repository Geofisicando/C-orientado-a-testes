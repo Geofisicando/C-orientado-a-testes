{
 "cells": [
  {
   "cell_type": "markdown",
   "metadata": {},
   "source": [
    "## Sistema de entrega de pizzas\n",
    "\n",
    "> Exercício original em:\n",
    "[DevMedia](https://www.devmedia.com.br/pilhas-fundamentos-e-implementacao-da-estrutura-em-java/28241)\n",
    "\n",
    "\n",
    "#### Criar um sistema de entrega de pizzas observando os seguintes requisitos:\n",
    "\n",
    "Um entregador deve entregar quatro pizzas em locais diferentes, a primeira pizza no baú deve ser a última a ser entregue e a última pizza do baú, a primeira a ser entregue. Neste caso, ao chegar na casa do cliente, o entregador apenas pega a primeira pizza que está no baú e entrega ao cliente.\n",
    "\n",
    "Apresentando uma rota de entrega de quatro pizzas, sendo a seguinte ordem:\n",
    "\n",
    "    1° entrega: Portuguesa\n",
    "    2° entrega: Frango com catupiry\n",
    "    3° entrega: Calabresa\n",
    "    4º entrega: Quatro queijos\n",
    "\n",
    "Assim, para armazenar no baú, a ordem deve ser invertida, ficando da seguinte forma:\n",
    "\n",
    "    Portuguesa (topo do baú)\n",
    "    Frango com catupiry\n",
    "    Calabresa\n",
    "    Quatro queijos\n",
    "\n",
    "Crie um sistema de organização do baú de entregas a partir de uma Estrutura de Dados Pilha. Seu sistema deve ser capaz de realizar as seguintes tarefas: a criação da pilha, o empilhamento - push (ato de colocar uma caixa de pizza sobre a outra), o ato de desempilhar - pop (na hora que o entregador tira a caixa de pilha para entregar ao cliente), além de uma verificação se a pilha está cheia ou vazia (ato que o entregador faz ao verificar o baú)."
   ]
  },
  {
   "cell_type": "markdown",
   "metadata": {},
   "source": [
    "## Conversor de decimal em binário\n",
    "\n",
    "> Esta é uma adaptação da questão 26 da lista de exercícios em: [Universidade Federal de Uberlândia - UFU, Faculdade de Computacão - FACOM](http://www.facom.ufu.br/~backes/wordpress/ListaED06-Pilhas.pdf)\n",
    "\n",
    "Faça um programa para converter um número inteiro positivo de decimal para binário utilizando a técnica das divisões sucessivas e armazenando os valores em uma estrutura de dados Pilha.\n",
    "\n",
    "* Exemplo:\n",
    "\n",
    "\n",
    "Divisão  | Resultado | Resto | |\n",
    "--------- | --------- | ----- |-- |\n",
    "30/2 | 15 | 0 | LSD\n",
    "15/2 | 7 | 1 |\n",
    "7/2 | 3 | 1 |\n",
    "3/2 | 1 | 1 |\n",
    "1/2 | 0 | 1 | MSD\n",
    "\n",
    "Onde LSD significa Dígito Menos Significativo (Least Significant Digit) e MSD significa Dígito Mais Significativo (Most Significant Digit).\n",
    "Assim, o número $30_{10}$ em decimal é igual a $11110_{2}$ em binário."
   ]
  }
 ],
 "metadata": {
  "kernelspec": {
   "display_name": "C",
   "language": "c",
   "name": "c"
  },
  "language_info": {
   "file_extension": ".c",
   "mimetype": "text/plain",
   "name": "c"
  }
 },
 "nbformat": 4,
 "nbformat_minor": 4
}
